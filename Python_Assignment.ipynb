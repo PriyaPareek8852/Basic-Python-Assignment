{
  "nbformat": 4,
  "nbformat_minor": 0,
  "metadata": {
    "colab": {
      "provenance": []
    },
    "kernelspec": {
      "name": "python3",
      "display_name": "Python 3"
    },
    "language_info": {
      "name": "python"
    }
  },
  "cells": [
    {
      "cell_type": "markdown",
      "source": [
        "1. what is python, and why is it popular?"
      ],
      "metadata": {
        "id": "YgoBs0hGHhdJ"
      }
    },
    {
      "cell_type": "code",
      "source": [
        "#Python is an interpreted, high-level programming language that is simple and easy to read\n",
        "#it is widely used because of its simple syntax, flexibility, and vast versatility of applications."
      ],
      "metadata": {
        "id": "aLDfR0CTHZCo"
      },
      "execution_count": 35,
      "outputs": []
    },
    {
      "cell_type": "markdown",
      "source": [
        "2. what is an interpreter in python?"
      ],
      "metadata": {
        "id": "vO2tmoYVHmeG"
      }
    },
    {
      "cell_type": "code",
      "source": [
        "\n",
        "#An interpreter in python is a program running on a computer that executes python code line by an interprets it into machine code.\n",
        "# It allows for immediare code execution, and therefore python is an interpreted language."
      ],
      "metadata": {
        "id": "T3ZxMS5Af2aY"
      },
      "execution_count": 39,
      "outputs": []
    },
    {
      "cell_type": "markdown",
      "source": [
        "3. what are pre-defined keywords in python?"
      ],
      "metadata": {
        "id": "B7Bd4iRTHuyI"
      }
    },
    {
      "cell_type": "code",
      "source": [
        "\n",
        "#In python, predefined keywords are reserved words that carry specific meanings and are utilized to specify the syntax and structure of the language.\n",
        "#These keywords cannot be used as variable Names.\n",
        "#Some of the prominent examples are \"if\",\"else\", \"while\", \"for\", \"def\", \"class\",\"import\",\"True\",\"false\", \"None\", And \"Return\".\n",
        "#These keywoeds manage control flow, specify functions, manage exceptions, and do a lot more."
      ],
      "metadata": {
        "id": "t4K8b_WthOio"
      },
      "execution_count": 40,
      "outputs": []
    },
    {
      "cell_type": "markdown",
      "source": [
        "4. Can keywords be used as variable names?"
      ],
      "metadata": {
        "id": "QPAn7MXLH1am"
      }
    },
    {
      "cell_type": "code",
      "source": [
        "\n",
        "#No, Keywords cannot be used as variable names in python.\n",
        "#They are reserved words with special meaning that define the language's syntax and structure.\n",
        "#Using them as variables name will result in a syntax error."
      ],
      "metadata": {
        "id": "gRmX53GEkuE_"
      },
      "execution_count": 42,
      "outputs": []
    },
    {
      "cell_type": "markdown",
      "source": [
        "5. What is mutability in python?"
      ],
      "metadata": {
        "id": "JRcpU2FsHJPv"
      }
    },
    {
      "cell_type": "code",
      "source": [
        "\n",
        "#Mutability in python refers to whether an object's value can be changed after creation.\n",
        "#Mutable objects (e.g., lists, dictionaries, sets) Can be modified, while immutables objects (e.g., strings, tuples, intergers) cannot be altered once created."
      ],
      "metadata": {
        "id": "naTovPDmmUcQ"
      },
      "execution_count": 43,
      "outputs": []
    },
    {
      "cell_type": "markdown",
      "source": [
        "6. Why are lists mutable, but tuples are immutable?"
      ],
      "metadata": {
        "id": "7OA580jxH888"
      }
    },
    {
      "cell_type": "code",
      "source": [
        "\n",
        "#Lists are mutables because they are designed for dynamic data, allowing modifications like addin, removing, or changing elements.\n",
        "#Tuples are immutable to ensure data integrity and allow for hashable keys in dictionaries, making them more memory-efficient and faster."
      ],
      "metadata": {
        "id": "rXfryq1Rnxnq"
      },
      "execution_count": 44,
      "outputs": []
    },
    {
      "cell_type": "markdown",
      "source": [
        "7. What is the difference between \"==\" and \"is\" operators in Python?"
      ],
      "metadata": {
        "id": "7i0aiBwdIKQY"
      }
    },
    {
      "cell_type": "code",
      "source": [
        "\n",
        "#The \"==\" operator checks if values of two objects are equal, while the \"is\" operator checks if they refer to the same memory location (identifiy)."
      ],
      "metadata": {
        "id": "H8Z1nBbpnxj3"
      },
      "execution_count": 45,
      "outputs": []
    },
    {
      "cell_type": "markdown",
      "source": [
        "8. What are logical operators in Python?"
      ],
      "metadata": {
        "id": "9hd3Z7jCIUJ4"
      }
    },
    {
      "cell_type": "code",
      "source": [
        "\n",
        "#Logical operators in Python are used to combine conditional statements.\n",
        "#They include:\n",
        "# and: Returns 'True' if both conditions are true.\n",
        "# or: Returns 'True' if at least one condition is true.\n",
        "# nor: Returns 'True' if the condition is false, and vice versa.\n",
        "#These operators are commonly used in decision-making and control flow."
      ],
      "metadata": {
        "id": "p1hA-Tj38WWY"
      },
      "execution_count": 46,
      "outputs": []
    },
    {
      "cell_type": "markdown",
      "source": [
        "9. What is the type casting in Python?"
      ],
      "metadata": {
        "id": "Y2EQzfPwIdxZ"
      }
    },
    {
      "cell_type": "code",
      "source": [
        "\n",
        "#Type casting in python is the process of converting one data type into another.\n",
        "#It can be done using functions int(), float(), str(), list(), and tuple().\n",
        "#For example, int(\"10\") converts the string \"10\" into an integer."
      ],
      "metadata": {
        "id": "SdxtyAvN-z96"
      },
      "execution_count": 47,
      "outputs": []
    },
    {
      "cell_type": "markdown",
      "source": [
        "10. What is the difference between implicit and explicit type casting?"
      ],
      "metadata": {
        "id": "ibt2tPCgIlfR"
      }
    },
    {
      "cell_type": "code",
      "source": [
        "\n",
        "#Implicit type casting is done automatically by python, where it converts a smaller data type to larger one (e.g., int to float) to avoid data loss.\n",
        "#Explicit type casting is manually done by the programmer using functions like int(), float(), or str() to convert between data types."
      ],
      "metadata": {
        "id": "hsz6FZgu_3_J"
      },
      "execution_count": 48,
      "outputs": []
    },
    {
      "cell_type": "markdown",
      "source": [
        "11. What is the purpose of conditional statements in Python?"
      ],
      "metadata": {
        "id": "nueJwQU3IqJK"
      }
    },
    {
      "cell_type": "code",
      "source": [
        "\n",
        "#Conditional statements in Python are used to execute specific code blocks based on whether a condition is true or false.\n",
        "#They control the flow of the program using if, elif, and else staements."
      ],
      "metadata": {
        "id": "Z2bdCjigBoO8"
      },
      "execution_count": 49,
      "outputs": []
    },
    {
      "cell_type": "markdown",
      "source": [
        "12. How does the elif statement work?"
      ],
      "metadata": {
        "id": "VwlP0D31IxMV"
      }
    },
    {
      "cell_type": "code",
      "source": [
        "\n",
        "#The elif statement in Python is used to check multiple conditions after an if statement.\n",
        "#If the if condition is False, Python checks the elif condition.\n",
        "#If it's True, the corresponding block executes.\n",
        "#Multiple elif statements can be used, and an optional else can handle cases when none are True."
      ],
      "metadata": {
        "id": "0z5IsL4PDDJE"
      },
      "execution_count": 50,
      "outputs": []
    },
    {
      "cell_type": "markdown",
      "source": [
        "13. What is the difference between for and while loops?"
      ],
      "metadata": {
        "id": "SqhnRy7uI4NW"
      }
    },
    {
      "cell_type": "code",
      "source": [
        "\n",
        "#For loop is used for iterating over a sequence (e.g., list, tuple, string) and runs a fixed number of times.\n",
        "#For While loop executes as long as a condition is true, making it suitable for indeterminate iterations."
      ],
      "metadata": {
        "id": "5K8jekcZEmmI"
      },
      "execution_count": 51,
      "outputs": []
    },
    {
      "cell_type": "markdown",
      "source": [
        "14. Describe a scenario where a while loop is more suitable than a for loop."
      ],
      "metadata": {
        "id": "TLaJQr4KI_NL"
      }
    },
    {
      "cell_type": "code",
      "source": [
        "\n",
        "#A while loop is more suitable when the numer of iterations is unknown beforehand.\n",
        "#For example, reading user input until thry enter a valid value or processing data until a condition is met."
      ],
      "metadata": {
        "id": "YH3D9uBTGNdV"
      },
      "execution_count": 52,
      "outputs": []
    },
    {
      "cell_type": "markdown",
      "source": [
        "Practical Questions And Solutions."
      ],
      "metadata": {
        "id": "KmK_bvTZH1fk"
      }
    },
    {
      "cell_type": "markdown",
      "source": [
        "1. Write a Python program to print \"Hello, world!"
      ],
      "metadata": {
        "id": "-3Lb0alzJG5P"
      }
    },
    {
      "cell_type": "code",
      "source": [
        "print(\"Hello, world!\")\n"
      ],
      "metadata": {
        "colab": {
          "base_uri": "https://localhost:8080/"
        },
        "id": "crlgB4vmJFMP",
        "outputId": "4dc6b3af-354c-476a-c585-149fc4a4dd37"
      },
      "execution_count": 53,
      "outputs": [
        {
          "output_type": "stream",
          "name": "stdout",
          "text": [
            "Hello, world!\n"
          ]
        }
      ]
    },
    {
      "cell_type": "markdown",
      "source": [
        "2. Write a Python program that displays your name and age."
      ],
      "metadata": {
        "id": "Jdi6Q8snJMvh"
      }
    },
    {
      "cell_type": "code",
      "source": [
        "name = \"Priya Pareek\"\n",
        "age = 23\n",
        "print(\"My name is\",name)\n",
        "print(\"My age is\",age)"
      ],
      "metadata": {
        "colab": {
          "base_uri": "https://localhost:8080/"
        },
        "id": "zAQ76r4DJwzx",
        "outputId": "9fb8c66c-83de-4a12-91aa-f5dfc8ce0a05"
      },
      "execution_count": 54,
      "outputs": [
        {
          "output_type": "stream",
          "name": "stdout",
          "text": [
            "My name is Priya Pareek\n",
            "My age is 23\n"
          ]
        }
      ]
    },
    {
      "cell_type": "markdown",
      "source": [
        "3. Write code to print all the pre-defined keywords in Python using the keyword library."
      ],
      "metadata": {
        "id": "EIDyAjS6JWYn"
      }
    },
    {
      "cell_type": "code",
      "source": [
        "import keyword\n",
        "# Get the list of all keywords\n",
        "python_keywords = keyword.kwlist\n",
        "\n",
        "# Print the keywords\n",
        "for keyword in all_keywords:\n",
        "    print(keyword)"
      ],
      "metadata": {
        "colab": {
          "base_uri": "https://localhost:8080/"
        },
        "id": "ucP_o3DbLE8k",
        "outputId": "29908ad7-c59d-4cca-d297-131c33e70463"
      },
      "execution_count": 6,
      "outputs": [
        {
          "output_type": "stream",
          "name": "stdout",
          "text": [
            "False\n",
            "None\n",
            "True\n",
            "and\n",
            "as\n",
            "assert\n",
            "async\n",
            "await\n",
            "break\n",
            "class\n",
            "continue\n",
            "def\n",
            "del\n",
            "elif\n",
            "else\n",
            "except\n",
            "finally\n",
            "for\n",
            "from\n",
            "global\n",
            "if\n",
            "import\n",
            "in\n",
            "is\n",
            "lambda\n",
            "nonlocal\n",
            "not\n",
            "or\n",
            "pass\n",
            "raise\n",
            "return\n",
            "try\n",
            "while\n",
            "with\n",
            "yield\n"
          ]
        }
      ]
    },
    {
      "cell_type": "markdown",
      "source": [
        "4. Write a program that checks if a given word is a Python keyword."
      ],
      "metadata": {
        "id": "3pgBwVLDJ8sl"
      }
    },
    {
      "cell_type": "code",
      "source": [
        "# Import the keyword library\n",
        "import keyword\n",
        "\n",
        "# Get user input\n",
        "word = input(\"Enter a word: \")\n",
        "\n",
        "# Check if the word is a Python keyword\n",
        "if keyword.iskeyword(word):\n",
        "    print(f\"'{word}' is a Python keyword.\")\n",
        "else:\n",
        "    print(f\"'{word}' is not a Python keyword.\")\n"
      ],
      "metadata": {
        "colab": {
          "base_uri": "https://localhost:8080/"
        },
        "id": "FwV0B1FGQf9u",
        "outputId": "91f0dc18-a2f2-45c1-f757-e5cbce190cf6"
      },
      "execution_count": 55,
      "outputs": [
        {
          "output_type": "stream",
          "name": "stdout",
          "text": [
            "Enter a word: if\n",
            "'if' is a Python keyword.\n"
          ]
        }
      ]
    },
    {
      "cell_type": "markdown",
      "source": [
        "5. Create a list and tuple in Python, and demonstrate How attempting to change an element works differently for each."
      ],
      "metadata": {
        "id": "ga84TXC4SIqb"
      }
    },
    {
      "cell_type": "code",
      "source": [
        "# Create a list\n",
        "my_list = [1, 2, 3, 4, 5]\n",
        "\n",
        "# Create a tuple\n",
        "my_tuple = (1, 2, 3, 4, 5)\n",
        "\n",
        "# Print the list and tuple\n",
        "print(my_list)\n",
        "print(my_tuple)\n",
        "\n",
        "# Attempt to change the second element (index 1) in the list\n",
        "my_list[1] = 100\n",
        "print(my_list)\n",
        "\n",
        "# Attempt to change the second element (index 1) in the tuple\n",
        "try:\n",
        "    my_tuple[1] = 100 # This will raise an error because tuples are immutable\n",
        "except TypeError as e:\n",
        "    print(f\"Error: {e}\")"
      ],
      "metadata": {
        "colab": {
          "base_uri": "https://localhost:8080/"
        },
        "id": "ObKL5gYNTcPi",
        "outputId": "4daa11d1-e432-475f-df85-490a1922dc50"
      },
      "execution_count": 56,
      "outputs": [
        {
          "output_type": "stream",
          "name": "stdout",
          "text": [
            "[1, 2, 3, 4, 5]\n",
            "(1, 2, 3, 4, 5)\n",
            "[1, 100, 3, 4, 5]\n",
            "Error: 'tuple' object does not support item assignment\n"
          ]
        }
      ]
    },
    {
      "cell_type": "markdown",
      "source": [
        "6. Write a function to demonstrate the behavior of mutable and immutable arguments."
      ],
      "metadata": {
        "id": "PZDjJMXah5xG"
      }
    },
    {
      "cell_type": "code",
      "source": [
        "# Function to demonstrate mutable and immutable arguments\n",
        "def demonstrate_mutable_immutable(mutable_list, immutable_int):\n",
        "    # Modify the mutable list\n",
        "    mutable_list.append(4)\n",
        "    print(\"Inside the function (mutable list):\", mutable_list)\n",
        "\n",
        "    # Try to modify immutable integer\n",
        "    immutable_int += 10\n",
        "    print(\"Inside the function (immutable int):\", immutable_int)\n",
        "\n",
        "# Initialize mutable and immutable arguments\n",
        "my_list =[1, 2, 3]    # Mutable (list)\n",
        "my_int = 5            # Immutable (int)\n",
        "\n",
        "# Call the function\n",
        "print(\"Before function call\")\n",
        "print(\"list:\", my_list)\n",
        "print(\"int:\",my_int)\n",
        "\n",
        "demonstrate_mutable_immutable(my_list, my_int)\n",
        "\n",
        "# Check the values after function call\n",
        "print(\"\\nAfter function call\")\n",
        "print(\"list:\", my_list)\n",
        "print(\"int:\", my_int)"
      ],
      "metadata": {
        "colab": {
          "base_uri": "https://localhost:8080/"
        },
        "id": "SkoAV6AjiBqA",
        "outputId": "c364e827-b660-479c-9ad1-46171787523a"
      },
      "execution_count": 11,
      "outputs": [
        {
          "output_type": "stream",
          "name": "stdout",
          "text": [
            "Before function call\n",
            "list: [1, 2, 3]\n",
            "int: 5\n",
            "Inside the function (mutable list): [1, 2, 3, 4]\n",
            "Inside the function (immutable int): 15\n",
            "\n",
            "After function call\n",
            "list: [1, 2, 3, 4]\n",
            "int: 5\n"
          ]
        }
      ]
    },
    {
      "cell_type": "markdown",
      "source": [
        "7. Write a program that performs basic arithmetic operations on two user-input numbers"
      ],
      "metadata": {
        "id": "rrBWEiKjoorz"
      }
    },
    {
      "cell_type": "code",
      "source": [
        "# Take input from user\n",
        "num1 = int(input(\"Enter the first number: \"))\n",
        "num2 = int(input(\"Enter the second number: \"))\n",
        "\n",
        "# Perform arithmetic operations\n",
        "print(\"Addition:\", num1 + num2)\n",
        "print(\"Subtraction:\", num1 - num2)\n",
        "print(\"Multiplication:\", num1 * num2)\n",
        "\n",
        "# For division Check if num2 is not zero\n",
        "if num2 != 0:\n",
        "    print(\"Division:\", num1 / num2)\n",
        "else:\n",
        "    print(\"Division is not possible. Division by zero is not allowed.\")"
      ],
      "metadata": {
        "colab": {
          "base_uri": "https://localhost:8080/"
        },
        "id": "xY4eQRnLpOIR",
        "outputId": "e5bf4d71-b4e3-4435-ef3f-1fabaf33e174"
      },
      "execution_count": 57,
      "outputs": [
        {
          "output_type": "stream",
          "name": "stdout",
          "text": [
            "Enter the first number: 1\n",
            "Enter the second number: 2\n",
            "Addition: 3\n",
            "Subtraction: -1\n",
            "Multiplication: 2\n",
            "Division: 0.5\n"
          ]
        }
      ]
    },
    {
      "cell_type": "markdown",
      "source": [
        "8. Write a program to demonstrate the use of logical operators."
      ],
      "metadata": {
        "id": "Khe7r6fJqYaa"
      }
    },
    {
      "cell_type": "code",
      "source": [
        "# Program to demonstrate the use of logical operators\n",
        "\n",
        "# Input values\n",
        "x = int(input(\"Enter the first number: \"))\n",
        "y = int(input(\"Enter the second number: \"))\n",
        "\n",
        "# Using logical operators\n",
        "print(\"\\nLogical Operator Result:\")\n",
        "print(f\"x > 0 and y > 0: {x > 0 and y > 0}\")      # Both must be true\n",
        "print(f\"x > 0 or y > 0: {x > 0 or y > 0}\")        # At least one must be true\n",
        "print(f\"not(x > 0): {not(x > 0)}\")                # Negates the conditions"
      ],
      "metadata": {
        "colab": {
          "base_uri": "https://localhost:8080/"
        },
        "id": "8A1lgCWftXc-",
        "outputId": "bfa474da-bbd7-4e96-c343-051d9fe79831"
      },
      "execution_count": 16,
      "outputs": [
        {
          "output_type": "stream",
          "name": "stdout",
          "text": [
            "Enter the first number: 25\n",
            "Enter the second number: 30\n",
            "\n",
            "Logical Operator Result:\n",
            "x > 0 and y > 0: True\n",
            "x > 0 or y > 0: True\n",
            "not(x > 0): False\n"
          ]
        }
      ]
    },
    {
      "cell_type": "markdown",
      "source": [
        "9. Write a Python program to convert user input from string to integer, float, and boolean types"
      ],
      "metadata": {
        "id": "I2VklG2Ju9ut"
      }
    },
    {
      "cell_type": "code",
      "source": [
        "# program to convert user input to integer, float, and boolean using a for loop\n",
        "\n",
        "# Get user input as a string\n",
        "user_input = input(\"Enter a value: \")\n",
        "\n",
        "# List of conversion functions\n",
        "conversion = [int, float, bool]\n",
        "\n",
        "# Loop through each conversion\n",
        "for convert in conversion:\n",
        "  try:\n",
        "    result = convert(user_input)\n",
        "    print(f\"{convert.__name__.capitalize()}:\", result)\n",
        "  except ValueError:\n",
        "    print(f\"cannot covert to {convert.__name__}.\")"
      ],
      "metadata": {
        "colab": {
          "base_uri": "https://localhost:8080/"
        },
        "collapsed": true,
        "id": "8SW8c3gF1ixj",
        "outputId": "63c7447c-434f-4f54-f437-a5bd1c3f8214"
      },
      "execution_count": 20,
      "outputs": [
        {
          "output_type": "stream",
          "name": "stdout",
          "text": [
            "Enter a value: 3.25\n",
            "cannot covert to int.\n",
            "Float: 3.25\n",
            "Bool: True\n"
          ]
        }
      ]
    },
    {
      "cell_type": "markdown",
      "source": [
        "10. Write code to demonstrate type casting with list elements."
      ],
      "metadata": {
        "id": "8kxbkfvj6nlW"
      }
    },
    {
      "cell_type": "code",
      "source": [
        "# Program to demonstrate type casting with list elements\n",
        "\n",
        "# List with mixed data types (string representations of numbers)\n",
        "data = [\"10\", \"20.5\", \"30\", \"True\", \"False\"]\n",
        "\n",
        "# Empty lists to store converted values\n",
        "int_list = []\n",
        "float_list = []\n",
        "bool_list = []\n",
        "\n",
        "# Type casting using for loop\n",
        "for item in data:\n",
        "  # Convert to int if possible\n",
        "  try:\n",
        "    int_list.append(int(item))\n",
        "  except ValueError:\n",
        "    pass\n",
        "\n",
        "  # Convert to float if possible\n",
        "  try:\n",
        "    float_list.append(float(item))\n",
        "  except ValueError:\n",
        "    pass\n",
        "\n",
        "  # Display the results\n",
        "  print(\"Original List:\", data)\n",
        "  print(\"Integer List:\", int_list)\n",
        "  print(\"Float List:\", float_list)\n",
        "  print(\"Boolean List:\", bool_list)"
      ],
      "metadata": {
        "colab": {
          "base_uri": "https://localhost:8080/"
        },
        "id": "5jt8ev926ztq",
        "outputId": "33ff21fe-4cac-4876-cba6-9f20a2438624"
      },
      "execution_count": 24,
      "outputs": [
        {
          "output_type": "stream",
          "name": "stdout",
          "text": [
            "Original List: ['10', '20.5', '30', 'True', 'False']\n",
            "Integer List: [10]\n",
            "Float List: [10.0]\n",
            "Boolean List: []\n",
            "Original List: ['10', '20.5', '30', 'True', 'False']\n",
            "Integer List: [10]\n",
            "Float List: [10.0, 20.5]\n",
            "Boolean List: []\n",
            "Original List: ['10', '20.5', '30', 'True', 'False']\n",
            "Integer List: [10, 30]\n",
            "Float List: [10.0, 20.5, 30.0]\n",
            "Boolean List: []\n",
            "Original List: ['10', '20.5', '30', 'True', 'False']\n",
            "Integer List: [10, 30]\n",
            "Float List: [10.0, 20.5, 30.0]\n",
            "Boolean List: []\n",
            "Original List: ['10', '20.5', '30', 'True', 'False']\n",
            "Integer List: [10, 30]\n",
            "Float List: [10.0, 20.5, 30.0]\n",
            "Boolean List: []\n"
          ]
        }
      ]
    },
    {
      "cell_type": "markdown",
      "source": [
        "11. Write a program that checks if a number is positive, negative, or zero."
      ],
      "metadata": {
        "id": "hIbGpLGQArwI"
      }
    },
    {
      "cell_type": "code",
      "source": [
        "# Program to check if a positive, negative, or zero\n",
        "\n",
        "# Get user input\n",
        "num = float(input(\"Enter a number: \"))\n",
        "\n",
        "# Check the number's sign\n",
        "if num > 0:\n",
        "  print(\"The number is positive.\")\n",
        "elif num < 0:\n",
        "  print(\"The number is negative.\")\n",
        "else:\n",
        "  print(\"The number is zero.\")"
      ],
      "metadata": {
        "colab": {
          "base_uri": "https://localhost:8080/"
        },
        "id": "UaExmHkvBb7q",
        "outputId": "3bd30673-51df-4b0e-dd3a-8c0b0c019b1d"
      },
      "execution_count": 25,
      "outputs": [
        {
          "output_type": "stream",
          "name": "stdout",
          "text": [
            "Enter a number: 47\n",
            "The number is positive.\n"
          ]
        }
      ]
    },
    {
      "cell_type": "markdown",
      "source": [
        "12. Write a for loop to print numbers from 1 to 10."
      ],
      "metadata": {
        "id": "rL3iqNyrCFP1"
      }
    },
    {
      "cell_type": "code",
      "source": [
        "for i in range(1,11):\n",
        "  print(i)\n"
      ],
      "metadata": {
        "colab": {
          "base_uri": "https://localhost:8080/"
        },
        "id": "TAiW0ScICQvb",
        "outputId": "e509ab54-59a4-4b5b-858b-44bf9972ed59"
      },
      "execution_count": 61,
      "outputs": [
        {
          "output_type": "stream",
          "name": "stdout",
          "text": [
            "1\n",
            "2\n",
            "3\n",
            "4\n",
            "5\n",
            "6\n",
            "7\n",
            "8\n",
            "9\n",
            "10\n"
          ]
        }
      ]
    },
    {
      "cell_type": "markdown",
      "source": [
        "13. Write a Python program to find the sum of all even numbers between 1 and 50."
      ],
      "metadata": {
        "id": "YmUXPawnCq_M"
      }
    },
    {
      "cell_type": "code",
      "source": [
        "total =0\n",
        "for i in range(2,51,2):\n",
        "  total += i\n",
        "print(\"The sum of even numbers from 1 to 50 is:\", total)\n",
        "\n"
      ],
      "metadata": {
        "colab": {
          "base_uri": "https://localhost:8080/"
        },
        "collapsed": true,
        "id": "toxPORjKC0H7",
        "outputId": "d92e4b6f-b06e-4f47-ce5e-f093df93d44c"
      },
      "execution_count": 62,
      "outputs": [
        {
          "output_type": "stream",
          "name": "stdout",
          "text": [
            "The sum of even numbers from 1 to 50 is: 650\n"
          ]
        }
      ]
    },
    {
      "cell_type": "markdown",
      "source": [
        "14. Write a program to reverse a string using a while loop."
      ],
      "metadata": {
        "id": "-WrbnuddDxC6"
      }
    },
    {
      "cell_type": "code",
      "source": [
        "# Program to reverse a string using a while loop\n",
        "\n",
        "# Get user input\n",
        "text = input(\"Enter a string: \")\n",
        "\n",
        "# Initialize variables\n",
        "reversed_str = \"\"\n",
        "index = len(text) - 1\n",
        "\n",
        "# While loop ro reverse the string\n",
        "while index >= 0:\n",
        "  reversed_str += text[index]\n",
        "  index -= 1\n",
        "\n",
        "# Print the reversed string\n",
        "print(\"Reversed string:\", reversed_str)"
      ],
      "metadata": {
        "colab": {
          "base_uri": "https://localhost:8080/"
        },
        "id": "P0UFEPSLD4AP",
        "outputId": "d227cfba-500c-40e6-8fd3-484f5d93d58a"
      },
      "execution_count": 30,
      "outputs": [
        {
          "output_type": "stream",
          "name": "stdout",
          "text": [
            "Enter a string: Priya\n",
            "Reversed string: ayirP\n"
          ]
        }
      ]
    },
    {
      "cell_type": "markdown",
      "source": [
        "15. Write a Python program to calculate the factorial of a number provided by the user using a while loop."
      ],
      "metadata": {
        "id": "Kh696P_ZFIJ3"
      }
    },
    {
      "cell_type": "code",
      "source": [
        "# Program to calculate the factorial of a number using a while loop\n",
        "\n",
        "# Get user input\n",
        "num = int(input(\"Enter a positive integer: \"))\n",
        "\n",
        "# Initialize variables\n",
        "factorial = 1\n",
        "i = num\n",
        "\n",
        "# While loop to calculate factorial\n",
        "while i > 0:\n",
        "  factorial *= i\n",
        "  i -= 1\n",
        "\n",
        "# Print the factorial\n",
        "print(f\"The factorial of {num} is {factorial}\")"
      ],
      "metadata": {
        "colab": {
          "base_uri": "https://localhost:8080/"
        },
        "id": "iURyEbDIFPtV",
        "outputId": "5456fd44-1e50-49a9-cc24-39096e287e37"
      },
      "execution_count": 31,
      "outputs": [
        {
          "output_type": "stream",
          "name": "stdout",
          "text": [
            "Enter a positive integer: 100\n",
            "The factorial of 100 is 93326215443944152681699238856266700490715968264381621468592963895217599993229915608941463976156518286253697920827223758251185210916864000000000000000000000000\n"
          ]
        }
      ]
    },
    {
      "cell_type": "markdown",
      "source": [
        " ........END........"
      ],
      "metadata": {
        "id": "2RijIQrFGmLM"
      }
    }
  ]
}